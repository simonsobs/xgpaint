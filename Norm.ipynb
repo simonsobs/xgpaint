{
 "cells": [
  {
   "cell_type": "code",
   "execution_count": 1,
   "metadata": {},
   "outputs": [],
   "source": [
    "%matplotlib inline\n",
    "%load_ext autoreload\n",
    "%autoreload 2\n",
    "\n",
    "import numpy as np\n",
    "import matplotlib.pyplot as plt\n",
    "\n",
    "import astropy.units as u\n",
    "from astropy.cosmology import WMAP9 as cosmo\n",
    "from astropy.cosmology import z_at_value"
   ]
  },
  {
   "cell_type": "code",
   "execution_count": 2,
   "metadata": {},
   "outputs": [],
   "source": [
    "zmin = 0.01\n",
    "zmax = 6.0\n",
    "zgrid = np.logspace(np.log10(zmin), np.log10(zmax), 500)\n",
    "rgrid = cosmo.comoving_distance(zgrid)\n",
    "def get_redshift(proper_dist): return np.interp(proper_dist, rgrid.value, zgrid)"
   ]
  },
  {
   "cell_type": "code",
   "execution_count": 3,
   "metadata": {},
   "outputs": [],
   "source": [
    "halos_I = np.load('halo2fluxmap/websky-cib/radio_I_sats/websky_halos-light.pksc_censat_145.0.npz')\n",
    "halos_II = np.load('halo2fluxmap/websky-cib/radio_II_sats/websky_halos-light.pksc_censat_145.0.npz')"
   ]
  },
  {
   "cell_type": "code",
   "execution_count": 4,
   "metadata": {},
   "outputs": [],
   "source": [
    "lsat_I, fsat_I = halos_I['lsat'], halos_I['fsat']\n",
    "x_I, y_I, z_I = halos_I['xsat'], halos_I['ysat'], halos_I['zsat']\n",
    "r_I = np.sqrt(x_I**2 + y_I**2 + z_I**2) # comoving radial distance\n",
    "redshifts_I = get_redshift(r_I)\n",
    "\n",
    "lsat_II, fsat_II = halos_II['lsat'], halos_II['fsat']\n",
    "x_II, y_II, z_II = halos_II['xsat'], halos_II['ysat'], halos_II['zsat']\n",
    "r_II = np.sqrt(x_II**2 + y_II**2 + z_II**2) # comoving radial distance\n",
    "redshifts_II = get_redshift(r_II)"
   ]
  },
  {
   "cell_type": "code",
   "execution_count": 5,
   "metadata": {},
   "outputs": [],
   "source": [
    "redshift_cut = 0.3\n",
    "lowz_lsat_I = (lsat_I)[redshifts_I < redshift_cut]\n",
    "lowz_lsat_II = (lsat_II)[redshifts_II < redshift_cut]"
   ]
  },
  {
   "cell_type": "code",
   "execution_count": 8,
   "metadata": {},
   "outputs": [
    {
     "data": {
      "image/png": "[encoded data removed]",
      "text/plain": [
       "<Figure size 360x360 with 1 Axes>"
      ]
     },
     "metadata": {
      "needs_background": "light"
     },
     "output_type": "display_data"
    }
   ],
   "source": [
    "n_I, bins = np.histogram( np.log10(lowz_lsat_I), \n",
    "         bins=10, range=(23.8,32) )\n",
    "n_II, bins = np.histogram( np.log10(lowz_lsat_II), \n",
    "         bins=10, range=(23.8,32) )\n",
    "\n",
    "\n",
    "mids = (bins[:-1] + bins[1:]) / 2.0\n",
    "\n",
    "norm = cosmo.comoving_volume(redshift_cut).value * (bins[1:] - bins[:-1])\n",
    "\n",
    "plt.figure(figsize=(5,5))\n",
    "plt.errorbar(10**mids, n_I / norm,\n",
    "            yerr=np.sqrt(n_I)/norm, fmt='go', lw=1,\n",
    "            markersize=5, markeredgewidth=1, markerfacecolor='none',\n",
    "            label='FR I')\n",
    "\n",
    "plt.errorbar(10**mids, n_II / norm,\n",
    "            yerr=np.sqrt(n_II)/norm, fmt='bs', lw=1,\n",
    "            markersize=5, markeredgewidth=1, markerfacecolor='none',\n",
    "            label='FR II')\n",
    "\n",
    "\n",
    "plt.legend()\n",
    "plt.ylabel(r'$dn/d\\log P$ ($\\mathrm{Mpc}^{-3}$ dex$^{-1}$)')\n",
    "plt.xlabel(r'$P_{145 \\mathrm{MHz}}$ (W/Hz)')\n",
    "plt.yscale('log')\n",
    "plt.ylim(2e-10,5e-5)\n",
    "plt.xscale('log')\n",
    "plt.gca().tick_params(which='both',direction=\"in\")\n",
    "plt.tight_layout()"
   ]
  },
  {
   "cell_type": "code",
   "execution_count": null,
   "metadata": {},
   "outputs": [],
   "source": []
  }
 ],
 "metadata": {
  "kernelspec": {
   "display_name": "cosmology",
   "language": "python",
   "name": "cosmology"
  },
  "language_info": {
   "codemirror_mode": {
    "name": "ipython",
    "version": 3
   },
   "file_extension": ".py",
   "mimetype": "text/x-python",
   "name": "python",
   "nbconvert_exporter": "python",
   "pygments_lexer": "ipython3",
   "version": "3.6.8"
  }
 },
 "nbformat": 4,
 "nbformat_minor": 2
}
