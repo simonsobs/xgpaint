{
 "cells": [
  {
   "cell_type": "code",
   "execution_count": 2,
   "metadata": {},
   "outputs": [
    {
     "name": "stdout",
     "output_type": "stream",
     "text": [
      "The autoreload extension is already loaded. To reload it, use:\n",
      "  %reload_ext autoreload\n"
     ]
    }
   ],
   "source": [
    "%matplotlib inline\n",
    "%load_ext autoreload\n",
    "%autoreload 2\n",
    "%config InlineBackend.figure_format = 'retina'\n",
    "\n",
    "import numpy as np\n",
    "import matplotlib.pyplot as plt\n",
    "import healpy as hp\n",
    "import astropy.units as u\n",
    "from astropy.cosmology import WMAP9 as cosmo\n",
    "from astropy.cosmology import z_at_value"
   ]
  },
  {
   "cell_type": "code",
   "execution_count": 6,
   "metadata": {},
   "outputs": [],
   "source": [
    "sehgal_freq_str = ['030', '090', '148', '219', '277', '350']\n",
    "sehgal_maps = [hp.read_map(\n",
    "    f'/tigress/zequnl/xgpaint/sehgal/originals/{freq}_rad_pts_healpix.fits', verbose=False)\n",
    "              for freq in sehgal_freq_str]\n",
    "downgraded_maps = [hp.ud_grade(m_, 4096) for m_ in sehgal_maps]\n"
   ]
  },
  {
   "cell_type": "code",
   "execution_count": 5,
   "metadata": {},
   "outputs": [],
   "source": [
    "\n",
    "for m, freq in zip(downgraded_maps, sehgal_freq_str):\n",
    "    hp.write_map(f\"/tigress/zequnl/xgpaint/sehgal/{freq}_rad_pts_healpix.fits\", m)"
   ]
  },
  {
   "cell_type": "code",
   "execution_count": null,
   "metadata": {},
   "outputs": [],
   "source": []
  }
 ],
 "metadata": {
  "kernelspec": {
   "display_name": "Python 3 (ps)",
   "language": "python",
   "name": "ps"
  },
  "language_info": {
   "codemirror_mode": {
    "name": "ipython",
    "version": 3
   },
   "file_extension": ".py",
   "mimetype": "text/x-python",
   "name": "python",
   "nbconvert_exporter": "python",
   "pygments_lexer": "ipython3",
   "version": "3.7.4"
  }
 },
 "nbformat": 4,
 "nbformat_minor": 2
}
