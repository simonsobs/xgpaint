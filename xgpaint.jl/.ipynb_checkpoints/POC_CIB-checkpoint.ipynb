{
 "cells": [
  {
   "cell_type": "markdown",
   "metadata": {},
   "source": [
    "# Design Doc\n",
    "\n",
    "## Two main goals:\n",
    "* shared memory parallelism\n",
    "* readable code\n",
    "\n",
    "It's hard to achieve these goals in Python -- you really want to have for loops, instead of allocating huge numpy arrays! In particular, in Python you're forced to rewrite variables in order to avoid allocations, which makes code really annoying to work with. The `mpi4py` use of xgpaint also makes it extremely wasteful for memory, forcing you to use nodes without using all of their cores.\n",
    "\n",
    "### Some stats:\n",
    "On a single Tiger node (40 Haswell cores per node), it takes ~1 minute to initialize the code, and then ~70 seconds per source realization for the full websky halo set. For comparison, Marcelo suggests that on cori (32 Haswell cores per node), it takes ~5 minutes on 16 nodes.\n",
    "\n",
    "This corresponds to (5 minutes / 70 seconds) * (16 nodes / 1 node) * (32 cores / 40 cores) ~ **50x speedup**."
   ]
  },
  {
   "cell_type": "markdown",
   "metadata": {},
   "source": [
    "# 1. Read a Catalog\n",
    "\n",
    "We operate with HDF5. I convert the `.pksc` format into `.hdf5` in the `pksc2hdf5.py` script (needs some work)."
   ]
  },
  {
   "cell_type": "code",
   "execution_count": 1,
   "metadata": {},
   "outputs": [],
   "source": [
    "const NPROCS = 40\n",
    "\n",
    "using Distributed\n",
    "addprocs(NPROCS);"
   ]
  },
  {
   "cell_type": "code",
   "execution_count": 2,
   "metadata": {},
   "outputs": [],
   "source": [
    "@everywhere begin\n",
    "    using HDF5\n",
    "    using SharedArrays\n",
    "    using Healpix\n",
    "    using PoissonRandom\n",
    "    using Interpolations\n",
    "    using QuadGK\n",
    "    using Base.GC\n",
    "    using Roots\n",
    "    using Cosmology\n",
    "    using Unitful\n",
    "    using UnitfulAstro\n",
    "    \n",
    "    using Random\n",
    "    # set different seeds for worker IDs\n",
    "    Random.seed!(myid() + trunc(Int64, time()))\n",
    "end"
   ]
  },
  {
   "cell_type": "markdown",
   "metadata": {},
   "source": [
    "We load in the halos and then initialize some derived quantities."
   ]
  },
  {
   "cell_type": "code",
   "execution_count": 3,
   "metadata": {},
   "outputs": [
    {
     "name": "stdout",
     "output_type": "stream",
     "text": [
      " 51.767067 seconds (6.12 M allocations: 26.014 GiB, 0.91% gc time)\n"
     ]
    }
   ],
   "source": [
    "@time begin\n",
    "    hdata = h5open(\"/tigress/zequnl/xgpaint/websky_halos-light.hdf5\", \"r\") do file\n",
    "        read(file, \"halos\")\n",
    "    end\n",
    "    \n",
    "    N_halos = size(hdata,2)\n",
    "    \n",
    "    halo_x_pos = SharedArray{Float32}(N_halos)\n",
    "    halo_y_pos = SharedArray{Float32}(N_halos)\n",
    "    halo_z_pos = SharedArray{Float32}(N_halos)\n",
    "    halo_mass = SharedArray{Float32}(N_halos)\n",
    "    \n",
    "    # fill up known quantities\n",
    "    halo_x_pos .= hdata[1,:]\n",
    "    halo_y_pos .= hdata[2,:]\n",
    "    halo_z_pos .= hdata[3,:]\n",
    "    halo_mass .= hdata[4,:]\n",
    "    hdata = 0\n",
    "    @everywhere GC.gc()\n",
    "    \n",
    "    # derived parameters\n",
    "    halo_comoving_dist = SharedArray{Float32}(N_halos)\n",
    "    halo_redshift = SharedArray{Float32}(N_halos)\n",
    "    \n",
    "    halo_n_cen = SharedArray{Int32}(N_halos)\n",
    "    halo_n_sat = SharedArray{Int32}(N_halos)\n",
    "    halo_n_sat_bar = SharedArray{Float32}(N_halos)\n",
    "end;"
   ]
  },
  {
   "cell_type": "markdown",
   "metadata": {},
   "source": [
    "In the final version of this code, these parameters should be stored in a const julia structure passed around by reference."
   ]
  },
  {
   "cell_type": "code",
   "execution_count": 4,
   "metadata": {},
   "outputs": [],
   "source": [
    "@everywhere begin\n",
    "    # output\n",
    "    const nside   = 4096\n",
    "    \n",
    "    # jiang\n",
    "    const jiang_gamma_1    = 0.13\n",
    "    const jiang_alpha_1    = -0.83\n",
    "    const jiang_gamma_2    = 1.33\n",
    "    const jiang_alpha_2    = -0.02\n",
    "    const jiang_beta_2     = 5.67\n",
    "    const jiang_zeta       = 1.19\n",
    "\n",
    "    # shang HOD\n",
    "    const shang_Msmin  = 1e11\n",
    "    const shang_Mmin   = 1e10\n",
    "    const shang_Mpeak  = 10.0^12.2\n",
    "    const shang_sigmaM = 0.4\n",
    "    const shang_Td     = 24.4          #Planck 2013 values\n",
    "    const shang_beta   = 1.75\n",
    "    const shang_eta    = 3.2           #same as delta_CIB in paper\n",
    "    const shang_I0     = 46\n",
    "    \n",
    "    # physical constants\n",
    "    const phys_h     = 6.62606957e-27   # erg.s\n",
    "    const phys_c     = 3e+10            # cm/s\n",
    "    const phys_k     = 1.3806488e-16    # erg/K\n",
    "    const phys_Msun  = 2e33             # g\n",
    "    const phys_Mpc   = 3.086e24         # cm\n",
    "    \n",
    "    # cosmology\n",
    "    const omegab  = 0.043\n",
    "    const omegac  = 0.207\n",
    "    const omegam  = omegab + omegac\n",
    "    const h = 0.7\n",
    "    const rhocrit = 2.78e11 * omegam * (h^2)\n",
    "    \n",
    "    const jl_cosmo = cosmology(h=h, OmegaM=omegam)\n",
    "end"
   ]
  },
  {
   "cell_type": "markdown",
   "metadata": {},
   "source": [
    "Core to the "
   ]
  },
  {
   "cell_type": "code",
   "execution_count": 5,
   "metadata": {},
   "outputs": [],
   "source": [
    "@everywhere function build_r2z_interpolator()\n",
    "    \"\"\"\n",
    "    Construct a fast r2z linear interpolator.\n",
    "    \"\"\"\n",
    "    zrange = LinRange(0.0, 6.0, 1000)\n",
    "    rrange = [ustrip(comoving_radial_dist(u\"Mpc\", jl_cosmo, z))\n",
    "        for z in zrange];\n",
    "    r2z = LinearInterpolation(rrange, zrange);\n",
    "    return r2z\n",
    "end\n",
    "\n",
    "@everywhere const r2z = build_r2z_interpolator()"
   ]
  },
  {
   "cell_type": "code",
   "execution_count": 6,
   "metadata": {},
   "outputs": [
    {
     "data": {
      "text/plain": [
       "fill_halovars! (generic function with 1 method)"
      ]
     },
     "execution_count": 6,
     "metadata": {},
     "output_type": "execute_result"
    }
   ],
   "source": [
    "function fill_halovars!(\n",
    "        x, y, z, # inputs\n",
    "        redshift_result, dist_result) # outputs\n",
    "    \"\"\"\n",
    "    This function computes distance and redshift in parallel.\n",
    "    \"\"\"\n",
    "    \n",
    "    N_halos = size(x,1)\n",
    "    @sync @distributed for i = 1:N_halos\n",
    "        dist_result[i] = sqrt(x[i]^2 + y[i]^2 + z[i]^2)\n",
    "        redshift_result[i] = r2z(dist_result[i])\n",
    "    end\n",
    "end"
   ]
  },
  {
   "cell_type": "markdown",
   "metadata": {},
   "source": [
    "We compute the comoving distance, spherical coordinates, and redshift of the halos and store them in the shared memory array `halo_derived`. It's in parallel, so it takes just seconds!"
   ]
  },
  {
   "cell_type": "code",
   "execution_count": 7,
   "metadata": {},
   "outputs": [
    {
     "name": "stdout",
     "output_type": "stream",
     "text": [
      "  3.295952 seconds (1.99 M allocations: 101.625 MiB, 0.69% gc time)\n"
     ]
    },
    {
     "data": {
      "text/plain": [
       "Task (done) @0x00002b3f02d53340"
      ]
     },
     "execution_count": 7,
     "metadata": {},
     "output_type": "execute_result"
    }
   ],
   "source": [
    "@time fill_halovars!(halo_x_pos, halo_y_pos, halo_z_pos,\n",
    "    halo_redshift, halo_comoving_dist)"
   ]
  },
  {
   "cell_type": "code",
   "execution_count": 8,
   "metadata": {},
   "outputs": [],
   "source": [
    "@everywhere GC.gc()"
   ]
  },
  {
   "cell_type": "markdown",
   "metadata": {},
   "source": [
    "# 2. HOD\n",
    "We assign a number of satellites to each halo."
   ]
  },
  {
   "cell_type": "code",
   "execution_count": 9,
   "metadata": {},
   "outputs": [
    {
     "data": {
      "text/plain": [
       "hod_shang (generic function with 1 method)"
      ]
     },
     "execution_count": 9,
     "metadata": {},
     "output_type": "execute_result"
    }
   ],
   "source": [
    "@everywhere function jiang_shmf(m,M_halo)\n",
    "    dndm = (((jiang_gamma_1*((m/M_halo)^jiang_alpha_1))+\n",
    "             (jiang_gamma_2*((m/M_halo)^jiang_alpha_2)))*\n",
    "             (exp(-(jiang_beta_2)*((m/M_halo)^jiang_zeta))))\n",
    "    return dndm\n",
    "end\n",
    "\n",
    "function build_shang_interp(min_log_M, max_log_M)\n",
    "    \n",
    "    x_m = LinRange(min_log_M, max_log_M, 1000)\n",
    "    N_sat_i = zeros(size(x_m))\n",
    "\n",
    "    function integrand_m(lm, lM_halo)\n",
    "        # lm is natural log of m\n",
    "        m = exp(lm)\n",
    "        M_halo = exp(lM_halo)\n",
    "        dns_dm = jiang_shmf(m,M_halo)\n",
    "        return dns_dm\n",
    "    end\n",
    "\n",
    "    for i in 1:size(x_m,1)\n",
    "        N_sat_i[i], err = quadgk( t->integrand_m(t, x_m[i]), \n",
    "                log(shang_Msmin), x_m[i], rtol=1e-8)\n",
    "        N_sat_i[i] = max(0.0,N_sat_i[i])\n",
    "    end\n",
    "\n",
    "    return LinearInterpolation(x_m, N_sat_i)\n",
    "end\n",
    "\n",
    "function hod_shang(cen_result, sat_result, sat_bar_result,\n",
    "        halo_mass::SharedArray)\n",
    "    # computes shang HOD and generates a Poisson draw\n",
    "    min_lm = log(minimum(halo_mass))\n",
    "    max_lm = log(maximum(halo_mass))\n",
    "    logM_to_N = build_shang_interp(min_lm, max_lm)\n",
    "    N_halos = size(halo_mass,1)\n",
    "    \n",
    "    @sync @distributed for i = 1:N_halos\n",
    "        cen_result[i] = 1\n",
    "        \n",
    "        sat_bar_result[i] = logM_to_N(log(halo_mass[i]))\n",
    "        sat_result[i] = pois_rand(convert(Float64, sat_bar_result[i]))\n",
    "    end\n",
    "    \n",
    "end"
   ]
  },
  {
   "cell_type": "code",
   "execution_count": 10,
   "metadata": {},
   "outputs": [
    {
     "name": "stdout",
     "output_type": "stream",
     "text": [
      "  9.618106 seconds (3.93 M allocations: 199.755 MiB, 2.17% gc time)\n"
     ]
    },
    {
     "data": {
      "text/plain": [
       "Task (done) @0x00002b3f03215ae0"
      ]
     },
     "execution_count": 10,
     "metadata": {},
     "output_type": "execute_result"
    }
   ],
   "source": [
    "@time hod_shang(halo_n_cen, halo_n_sat, halo_n_sat_bar, halo_mass)"
   ]
  },
  {
   "cell_type": "markdown",
   "metadata": {},
   "source": [
    "# 3. Halos to Sources to Maps\n",
    "\n",
    "This is a loop *for each halo*, which does the following.\n",
    "\n",
    "```\n",
    "for loop over $n_{halo}$\n",
    "    for loop over $n_{sat}$ of the halo\n",
    "        do tasks\n",
    "```\n",
    "\n",
    "### Tasks\n",
    "1. draw a random satellite with position and mass\n",
    "2. assign it a luminosity from that mass\n",
    "3. convert that luminosity to a flux\n",
    "4. map to a healpix pixel index and add that flux"
   ]
  },
  {
   "cell_type": "code",
   "execution_count": 11,
   "metadata": {},
   "outputs": [],
   "source": [
    "@everywhere function mz2c(m,z)\n",
    "    # concentration factor from Duffy et al. 2008\n",
    "    return 7.85 * (m / (2e+12/h))^(-0.081) / (1+z)^0.71\n",
    "end\n",
    "\n",
    "@everywhere function m2r(m)\n",
    "    return (3. * m / 4. / π / rhocrit)^(1. / 3.)\n",
    "end\n",
    "\n",
    "@everywhere begin\n",
    "    f_nfw(x) = log(1.0+x) - x/(1.0+x)\n",
    "    g(x,c,m) = m - f_nfw(x)/f_nfw(c)\n",
    "\n",
    "    function solve_r(c,lnm)\n",
    "        m = exp(lnm)\n",
    "        return find_zero( x -> g(x,c,m) , (0.0,100.0), Bisection()) / c\n",
    "    end\n",
    "\n",
    "    function build_c_lnm2r_interp()\n",
    "        \"\"\"\n",
    "        Generates an interpolator r(c, lnm)\n",
    "\n",
    "        Generate a LinearInterpolation object that turns concentration\n",
    "        and ln(M_halo) into satellite radius.\n",
    "        \"\"\"\n",
    "        mmin = -7.1 # we have a minimum fractional mass of exp(-7)\n",
    "        mmax = 0\n",
    "        cmin = 1e-3\n",
    "        cmax = 25.0\n",
    "\n",
    "        cs  = LinRange(cmin,cmax,100)\n",
    "        ms  = LinRange(mmin,mmax,100)\n",
    "        r = [solve_r(c_,m_) for c_ in cs, m_ in ms]\n",
    "\n",
    "        return LinearInterpolation((cs, ms), r)\n",
    "    end\n",
    "end"
   ]
  },
  {
   "cell_type": "code",
   "execution_count": 13,
   "metadata": {},
   "outputs": [],
   "source": [
    "@everywhere random_phi() = rand() * 2π\n",
    "@everywhere random_theta() = acos(2.0*rand()-1.0)"
   ]
  },
  {
   "cell_type": "code",
   "execution_count": 14,
   "metadata": {},
   "outputs": [],
   "source": [
    "# surface brightness of centrals\n",
    "@everywhere begin\n",
    "    sigma_cen(m) = (exp( -(log10(m) - log10(shang_Mpeak))^2 / \n",
    "            (2*shang_sigmaM) ) * m) / sqrt(2π * shang_sigmaM)\n",
    "\n",
    "    function nu2theta(nu)\n",
    "        xnu = phys_h * nu / phys_k / shang_Td\n",
    "        return xnu^(4.0 + shang_beta) / expm1(xnu) / nu / shang_I0\n",
    "    end\n",
    "\n",
    "    # <L_sat> interpolation values\n",
    "    function integrand_L(lm,lM_halo)\n",
    "        m      = exp(lm)\n",
    "        return sigma_cen(m) * jiang_shmf(m,exp(lM_halo))\n",
    "    end\n",
    "\n",
    "    function build_sigma_sat_ln(min_ln_M, max_ln_M)\n",
    "        \"\"\"\n",
    "        Pass the min and max of ln M, get a linear interpolator out\n",
    "        that takes in ln(M_halo) and returns the surface brightness.\n",
    "        \"\"\"\n",
    "        x = LinRange(min_ln_M, max_ln_M, 1000)\n",
    "        L_mean = zeros(size(x))\n",
    "\n",
    "        for i in 1:size(x,1)\n",
    "            L_mean[i], err = quadgk( t->integrand_L(t, x[i]), \n",
    "                    log(shang_Mmin), x[i], rtol=1e-8)\n",
    "        end\n",
    "        return LinearInterpolation(x, L_mean, extrapolation_bc=0.0)\n",
    "    end\n",
    "end"
   ]
  },
  {
   "cell_type": "code",
   "execution_count": 15,
   "metadata": {},
   "outputs": [],
   "source": [
    "max_m = maximum(halo_mass)\n",
    "@everywhere const max_m_halo = $max_m"
   ]
  },
  {
   "cell_type": "code",
   "execution_count": 16,
   "metadata": {},
   "outputs": [],
   "source": [
    "@everywhere const sigma_sat_ln = build_sigma_sat_ln( \n",
    "    log(shang_Mmin), log(max_m_halo))\n",
    "@everywhere const c_lnm2r = build_c_lnm2r_interp()\n",
    "@everywhere const Healpix_res = Resolution(nside)"
   ]
  },
  {
   "cell_type": "code",
   "execution_count": 17,
   "metadata": {},
   "outputs": [],
   "source": [
    "@everywhere function l2f(Lum, r_comoving, redshift)\n",
    "    return Lum / (4pi * r_comoving^2 * (1.0 + redshift))\n",
    "end"
   ]
  },
  {
   "cell_type": "code",
   "execution_count": 18,
   "metadata": {},
   "outputs": [],
   "source": [
    "@everywhere function integrand_muofn(lmu)\n",
    "    mu=exp(lmu)\n",
    "    dns_dm = jiang_shmf(mu,1.0)\n",
    "    return dns_dm\n",
    "end\n",
    "\n",
    "@everywhere function build_muofn()\n",
    "    mu = 10 .^ LinRange(-6,0,1000)\n",
    "    n  = zeros(size(mu,1))\n",
    "    for i in 1:size(mu,1)\n",
    "        n[i], err = quadgk( integrand_muofn, \n",
    "                log(mu[i]), 0.0, rtol=1e-6)\n",
    "    end\n",
    "\n",
    "    return LinearInterpolation(reverse(n), reverse(mu))\n",
    "end"
   ]
  },
  {
   "cell_type": "code",
   "execution_count": 19,
   "metadata": {},
   "outputs": [],
   "source": [
    "@everywhere const muofn = build_muofn()"
   ]
  },
  {
   "cell_type": "code",
   "execution_count": 20,
   "metadata": {},
   "outputs": [
    {
     "data": {
      "text/plain": [
       "make_map (generic function with 1 method)"
      ]
     },
     "execution_count": 20,
     "metadata": {},
     "output_type": "execute_result"
    }
   ],
   "source": [
    "function make_map(x_cen, y_cen, z_cen, m_cen, d_cm_cen, redshift_cen, \n",
    "        n_sat, n_sat_bar, nu_obs)\n",
    "    \"\"\"Generate a CIB map given a HOD.\"\"\"\n",
    "    N_halos = size(m_cen,1)\n",
    "\n",
    "    result_map = SharedArray{Float64}(Healpix.nside2npix(nside)); \n",
    "    result_map .= 0.0 # initialize to zero\n",
    "    \n",
    "    @sync @distributed  for i = 1:N_halos\n",
    "        log_m_cen = log(m_cen[i])\n",
    "        r_cen = m2r(m_cen[i])\n",
    "        c_cen = mz2c(m_cen[i], redshift_cen[i])\n",
    "        # concentration of satellites will be inherited from parent\n",
    "        \n",
    "        # compute central luminosity and flux\n",
    "        nu  = (1+redshift_cen[i]) * nu_obs\n",
    "        L_cen = sigma_cen(m_cen[i]) * nu2theta(nu) * (1+redshift_cen[i])^shang_eta\n",
    "        f_cen = l2f(L_cen, d_cm_cen[i], redshift_cen[i])\n",
    "        hp_index = Healpix.vec2pixRing(Healpix_res, x_cen[i], y_cen[i], z_cen[i])\n",
    "        result_map[hp_index] += f_cen\n",
    "        \n",
    "        for j = 1:n_sat[i]\n",
    "            # ================= Populate Centrals ==============\n",
    "            log_msat_inner = max(log(rand()), -7.0) \n",
    "            r_sat = r_cen * c_lnm2r(c_cen, log_msat_inner) * 200^(-1. / 3.)\n",
    "            m_sat = muofn(rand() * n_sat_bar[i]) * m_cen[i]\n",
    "            # the 200 encodes that Rvir appearing in concentration is \n",
    "            # defined as 200 times the mean - Marcelo\n",
    "            \n",
    "            # now move the satellite exactly one R_sat away from the central\n",
    "            phi = random_phi()\n",
    "            theta = random_theta()\n",
    "            x_sat = x_cen[i] + r_sat * sin(theta) * cos(phi)\n",
    "            y_sat = y_cen[i] + r_sat * sin(theta) * sin(phi)\n",
    "            z_sat = z_cen[i] + r_sat * cos(theta)\n",
    "            d_sat = sqrt(x_sat^2 + y_sat^2 + z_sat^2)\n",
    "            \n",
    "            # ================= Halos to Sources  ==============\n",
    "            redshift_sat = r2z(d_sat)\n",
    "            nu  = (1+redshift_sat) * nu_obs\n",
    "            L_sat = sigma_cen(m_sat) * nu2theta(nu) * (\n",
    "                1+redshift_sat)^shang_eta\n",
    "        \n",
    "            \n",
    "            f_sat = l2f(L_sat, d_sat, redshift_sat)\n",
    "            \n",
    "            hp_index = Healpix.vec2pixRing(Healpix_res, x_sat, y_sat, z_sat)\n",
    "            result_map[hp_index] += f_sat\n",
    "        end\n",
    "    end\n",
    "    \n",
    "    pix_area = Healpix.nside2pixarea(nside)\n",
    "    return result_map ./ pix_area\n",
    "end"
   ]
  },
  {
   "cell_type": "code",
   "execution_count": 25,
   "metadata": {},
   "outputs": [
    {
     "name": "stdout",
     "output_type": "stream",
     "text": [
      " 71.557993 seconds (47.86 k allocations: 4.309 MiB)\n"
     ]
    }
   ],
   "source": [
    "@time result = make_map(\n",
    "    halo_x_pos, halo_y_pos, halo_z_pos, halo_mass, \n",
    "    halo_comoving_dist, halo_redshift,\n",
    "    halo_n_sat, halo_n_sat_bar, 100e9\n",
    ");"
   ]
  },
  {
   "cell_type": "code",
   "execution_count": 22,
   "metadata": {},
   "outputs": [],
   "source": [
    "# using Plots\n",
    "# gr()  # Use the GR backend\n",
    "\n",
    "# logm = Map{Float64, RingOrder}(nside)\n",
    "# logm.pixels .= log10.(result);\n",
    "# Plots.plot( logm )"
   ]
  },
  {
   "cell_type": "code",
   "execution_count": 23,
   "metadata": {},
   "outputs": [
    {
     "data": {
      "text/plain": [
       "Process(`\u001b[4mrm\u001b[24m \u001b[4m/tigress/zequnl/xgpaint/cib100.fits\u001b[24m`, ProcessExited(0))"
      ]
     },
     "execution_count": 23,
     "metadata": {},
     "output_type": "execute_result"
    }
   ],
   "source": [
    "run(`rm /tigress/zequnl/xgpaint/cib100.fits`)"
   ]
  },
  {
   "cell_type": "code",
   "execution_count": 24,
   "metadata": {},
   "outputs": [],
   "source": [
    "m = Map{Float64, RingOrder}(nside)\n",
    "m.pixels .= result;\n",
    "Healpix.saveToFITS(m, \"/tigress/zequnl/xgpaint/cib100.fits\")"
   ]
  },
  {
   "cell_type": "code",
   "execution_count": null,
   "metadata": {},
   "outputs": [],
   "source": []
  }
 ],
 "metadata": {
  "kernelspec": {
   "display_name": "Julia 1.1.0",
   "language": "julia",
   "name": "julia-1.1"
  },
  "language_info": {
   "file_extension": ".jl",
   "mimetype": "application/julia",
   "name": "julia",
   "version": "1.1.0"
  }
 },
 "nbformat": 4,
 "nbformat_minor": 2
}
