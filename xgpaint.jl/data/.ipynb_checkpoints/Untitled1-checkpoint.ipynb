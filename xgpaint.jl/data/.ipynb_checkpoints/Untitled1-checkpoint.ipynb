{
 "cells": [
  {
   "cell_type": "code",
   "execution_count": 30,
   "metadata": {},
   "outputs": [
    {
     "data": {
      "text/plain": [
       "IOStream(<file /tigress/zequnl/xgpaint/halo_nbody.binary>)"
      ]
     },
     "execution_count": 30,
     "metadata": {},
     "output_type": "execute_result"
    }
   ],
   "source": []
  },
  {
   "cell_type": "code",
   "execution_count": 31,
   "metadata": {},
   "outputs": [
    {
     "data": {
      "text/plain": [
       "20×1414339 Array{Float32,2}:\n",
       "    0.003916       0.008981       0.01102     …     3.025          3.03      \n",
       "   60.5925        35.1962        21.7048           63.7638        34.6723    \n",
       "   23.8934         1.45353        2.14709          34.7568        26.0974    \n",
       "    7.34686       30.8015        43.0376         2372.91        4829.19      \n",
       "   13.0346        21.725         17.1309         4814.7         3340.44      \n",
       "    6.6284         0.956416       1.73667     …  3724.64        2876.3       \n",
       " -162.619       -231.761       -140.053            49.2097      -122.108     \n",
       "  192.061         -9.09485       28.2308          246.294       -178.144     \n",
       " -208.2         -327.008       -205.712           101.175       -126.605     \n",
       "    2.94109e13     2.9507e13      5.12288e13        2.93148e13     3.42166e13\n",
       "    2.42207e13     2.63353e13     4.5462e13   …     1.87422e13     3.31594e13\n",
       "    0.756536       0.776184       0.927612          0.217441       0.265807  \n",
       "    1.59549e13     2.02801e13     3.56583e13        1.79733e13     3.27749e13\n",
       "    0.514205       0.558114       0.672472          0.204997       0.249891  \n",
       "    1.06687e13     1.45132e13     1.682e13          8.55415e12     2.72003e13\n",
       "    0.333146       0.368905       0.386322    …     0.118935       0.173036  \n",
       "    5.19016e12     9.22695e12     6.43964e12        3.46011e12     8.65027e12\n",
       "    0.181231       0.218768       0.196979          0.0629656      0.0821103 \n",
       "    1.53783e12     6.63187e12     4.51736e12        9.61141e11     3.26788e12\n",
       "    0.103082       0.167357       0.14699           0.0341499      0.0503054 "
      ]
     },
     "execution_count": 31,
     "metadata": {},
     "output_type": "execute_result"
    }
   ],
   "source": []
  },
  {
   "cell_type": "code",
   "execution_count": null,
   "metadata": {},
   "outputs": [],
   "source": []
  },
  {
   "cell_type": "code",
   "execution_count": null,
   "metadata": {},
   "outputs": [],
   "source": []
  }
 ],
 "metadata": {
  "kernelspec": {
   "display_name": "Julia 1.1.0",
   "language": "julia",
   "name": "julia-1.1"
  },
  "language_info": {
   "file_extension": ".jl",
   "mimetype": "application/julia",
   "name": "julia",
   "version": "1.1.0"
  }
 },
 "nbformat": 4,
 "nbformat_minor": 4
}
