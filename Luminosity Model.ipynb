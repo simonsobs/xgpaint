{
 "cells": [
  {
   "cell_type": "code",
   "execution_count": 1,
   "metadata": {},
   "outputs": [],
   "source": [
    "%matplotlib inline\n",
    "%load_ext autoreload\n",
    "%autoreload 2"
   ]
  },
  {
   "cell_type": "code",
   "execution_count": 2,
   "metadata": {},
   "outputs": [],
   "source": [
    "#!/usr/bin/env python\n",
    "import sys\n",
    "import numpy             as np\n",
    "# import healpy            as hp\n",
    "import matplotlib.pyplot as plt\n",
    "import halo2fluxmap      as h2fm"
   ]
  },
  {
   "cell_type": "markdown",
   "metadata": {},
   "source": [
    "# Masses\n",
    "\n",
    "\n",
    "Press-Schecter has\n",
    "\n",
    "$$\\frac{dn}{d \\ln M} \\propto M^{-1} $$\n",
    "\n",
    "We cut off the masses at $10^9$ and $10^{15}$ to mimc a cosmological simulation."
   ]
  },
  {
   "cell_type": "code",
   "execution_count": 107,
   "metadata": {},
   "outputs": [
    {
     "data": {
      "text/plain": [
       "Text(0.5,0,'$M [M_{\\\\odot}]$')"
      ]
     },
     "execution_count": 107,
     "metadata": {},
     "output_type": "execute_result"
    },
    {
     "data": {
      "image/png": "[encoded data removed]",
      "text/plain": [
       "<Figure size 360x360 with 1 Axes>"
      ]
     },
     "metadata": {
      "needs_background": "light"
     },
     "output_type": "display_data"
    }
   ],
   "source": [
    "import powerlaw\n",
    "# generates random variates of power law distribution\n",
    "\n",
    "plt.figure(figsize=(5,5))\n",
    "N = 100000\n",
    "masses = powerlaw.Power_Law(xmin=1e9, parameters=[1.01]).generate_random(N)\n",
    "\n",
    "masses = masses[masses > 1e9]\n",
    "masses = masses[masses < 1e15]\n",
    "\n",
    "vals, bins = np.histogram(masses, bins=np.logspace(10, 16, 20))\n",
    "mids = (bins[1:] + bins[:-1]) / 2.0\n",
    "norm = bins[1:] - bins[:-1]\n",
    "plt.plot(mids, vals/norm, label='mass')\n",
    "plt.yscale('log')\n",
    "plt.xscale('log')\n",
    "\n",
    "plt.xlabel(r'$M [M_{\\odot}]$')"
   ]
  },
  {
   "cell_type": "markdown",
   "metadata": {},
   "source": [
    "In the Sehgal sims, the halo occupation number is defined as \n",
    "$$ N(M) = N_0 (M / M_0)^{\\alpha}. $$\n",
    "Both have $\\alpha=0.1$ but `FR I` has $N_0 = 1$ and $M_0 = 4 \\times 10^{13}$, `FR II` has $N_0 = 0.015$ and $M_0 = 3 \\times 10^{15}$. Let's compute on average how many sources we'll have for every $10^6$ halos."
   ]
  },
  {
   "cell_type": "code",
   "execution_count": 108,
   "metadata": {},
   "outputs": [
    {
     "name": "stdout",
     "output_type": "stream",
     "text": [
      "('FR I', 9419.216493723763)\n",
      "('FR II', 91.74869836840874)\n"
     ]
    }
   ],
   "source": [
    "print('FR I', np.sum( (masses/4e13)**0.1 ) )\n",
    "print('FR II', np.sum( 0.015 * (masses/3e15)**0.1 ) )"
   ]
  },
  {
   "cell_type": "markdown",
   "metadata": {},
   "source": [
    "Next, we have a broken power law from Sehgal for the luminosity.\n",
    "\n",
    "$$ p(L) = \\begin{cases}  (L/L_b)^m & L > L_b  \\\\ (L/L_b)^n & \\mathrm{otherwise}  \\end{cases} $$\n",
    "\n",
    "We have\n",
    "\n",
    "### FR I\n",
    "```\n",
    "L_b = 1e24\n",
    "m = -1.55\n",
    "n = 0\n",
    "```\n",
    "\n",
    "### FR II\n",
    "```\n",
    "L_b = 1e27.5\n",
    "m = -1.6\n",
    "n = -0.65\n",
    "```"
   ]
  },
  {
   "cell_type": "code",
   "execution_count": 59,
   "metadata": {},
   "outputs": [],
   "source": [
    "\n",
    "def broken_power_law_sehgal(m_in, m, n, Lb):\n",
    "\n",
    "    p0 = (1+m) * (1+n) / Lb / (m-n)\n",
    "    \n",
    "    def F_inv_lower(F_in):\n",
    "        return (Lb**n * (1.0+n) * F_in / p0)**(1.0 / (1.0+n))\n",
    "    def F_inv_upper(F_in):\n",
    "        return (- Lb**m * (1+m) * (Lb * p0 * ( 1/(1.0+n) - 1/(1.0+m) ) - F_in) / p0 )**(1.0 / (1.0+m))\n",
    "    Fb = Lb * p0 / (1+n)\n",
    "    def F_inv(F_in):\n",
    "        return np.piecewise(F_in, [F_in < Fb, F_in >= Fb], [F_inv_lower, F_inv_upper])\n",
    "    \n",
    "    unif_x = np.random.uniform(size=m_in.shape[0])\n",
    "    return F_inv(unif_x)\n"
   ]
  },
  {
   "cell_type": "code",
   "execution_count": 104,
   "metadata": {},
   "outputs": [
    {
     "data": {
      "text/plain": [
       "Text(0.5,24,'$L$')"
      ]
     },
     "execution_count": 104,
     "metadata": {},
     "output_type": "execute_result"
    },
    {
     "data": {
      "image/png": "[encoded data removed]",
      "text/plain": [
       "<Figure size 360x360 with 1 Axes>"
      ]
     },
     "metadata": {
      "needs_background": "light"
     },
     "output_type": "display_data"
    }
   ],
   "source": [
    "N_draws = int(1e6)\n",
    "\n",
    "\n",
    "plt.figure(figsize=(5,5))\n",
    "\n",
    "L_draw = broken_power_law_sehgal( np.ones(int(N_draws * 0.01)), m=-1.6, n=-0.65, Lb=10**27.5 )\n",
    "vals, bins = np.histogram(L_draw, bins=np.logspace(20, 30, 50))\n",
    "mids = (bins[1:] + bins[:-1]) / 2.0\n",
    "norm = bins[1:] - bins[:-1]\n",
    "plt.plot( mids, vals / norm, label='FR II' )\n",
    "\n",
    "L_draw = broken_power_law_sehgal( np.ones(int(N_draws)), m=-1.55, n=0, Lb=10**24 )\n",
    "vals, bins = np.histogram(L_draw, bins=np.logspace(20, 30, 50))\n",
    "mids = (bins[1:] + bins[:-1]) / 2.0\n",
    "norm = bins[1:] - bins[:-1]\n",
    "plt.plot( mids, vals / norm, label='FR I' )\n",
    "\n",
    "\n",
    "plt.xlim(1e23, 1e30)\n",
    "plt.legend()\n",
    "plt.tight_layout()\n",
    "plt.yscale('log')\n",
    "plt.xscale('log')\n",
    "plt.xlabel(r'$L$')"
   ]
  },
  {
   "cell_type": "code",
   "execution_count": null,
   "metadata": {},
   "outputs": [],
   "source": []
  },
  {
   "cell_type": "code",
   "execution_count": null,
   "metadata": {},
   "outputs": [],
   "source": []
  }
 ],
 "metadata": {
  "kernelspec": {
   "display_name": "cosmology_py2",
   "language": "python",
   "name": "cosmology_py2"
  },
  "language_info": {
   "codemirror_mode": {
    "name": "ipython",
    "version": 2
   },
   "file_extension": ".py",
   "mimetype": "text/x-python",
   "name": "python",
   "nbconvert_exporter": "python",
   "pygments_lexer": "ipython2",
   "version": "2.7.16"
  }
 },
 "nbformat": 4,
 "nbformat_minor": 2
}
